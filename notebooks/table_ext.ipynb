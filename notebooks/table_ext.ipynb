{
 "cells": [
  {
   "cell_type": "markdown",
   "id": "980c4494",
   "metadata": {},
   "source": [
    "### 1.- Importación bibliotecas"
   ]
  },
  {
   "cell_type": "code",
   "execution_count": 1,
   "id": "2a23ac67",
   "metadata": {},
   "outputs": [
    {
     "data": {
      "text/plain": [
       "<module 'utils.visualizaciones_ext' from 'c:\\\\Users\\\\Ramón\\\\Desktop\\\\comparacion_jugadores_25_26\\\\utils\\\\visualizaciones_ext.py'>"
      ]
     },
     "execution_count": 1,
     "metadata": {},
     "output_type": "execute_result"
    }
   ],
   "source": [
    "from pathlib import Path\n",
    "import sys\n",
    "import pandas as pd\n",
    "import numpy as np\n",
    "import matplotlib.pyplot as plt\n",
    "import matplotlib.image as mpimg\n",
    "from importlib import reload\n",
    "from matplotlib.patches import Rectangle\n",
    "from matplotlib.offsetbox import OffsetImage, AnnotationBbox\n",
    "from PIL import Image\n",
    "from datetime import datetime\n",
    "\n",
    "project_root = Path.cwd().parent  # estando en notebooks/\n",
    "if str(project_root) not in sys.path:\n",
    "    sys.path.append(str(project_root))\n",
    "\n",
    "import utils.visualizaciones_ext as visx\n",
    "from importlib import reload\n",
    "reload(visx)\n",
    "\n",
    "import utils.visualizaciones_ext as vis\n",
    "reload(vis)"
   ]
  },
  {
   "cell_type": "markdown",
   "id": "4ca4b1b8",
   "metadata": {},
   "source": [
    "### 2.- Paleta de colores"
   ]
  },
  {
   "cell_type": "code",
   "execution_count": 2,
   "id": "7029ac86",
   "metadata": {},
   "outputs": [],
   "source": [
    "# --------- PALETA \"Dark Cyan\" (simplificada) ----------\n",
    "BG_MAIN       = \"#0F1420\"   # Fondo principal (casi negro azulado)\n",
    "BG_SECONDARY  = \"#1A2233\"   # Fondo secundario (cards / paneles)\n",
    "TEXT_MAIN     = \"#E6EDF3\"   # Texto principal\n",
    "TEXT_SECOND   = \"#9DA7B3\"   # Texto secundario\n",
    "TITLE_COLOR   = \"#F7FAFC\"   # Título (más claro para contraste)\n",
    "ACCENT_CYAN   = \"#00E5FF\"   # Acento principal (highlights)\n",
    "ACCENT_WARN   = \"#FFD166\"   # Acento secundario (avisos/alertas puntuales)\n",
    "GRID_COLOR    = \"#2B3240\"   # Bordes / divisores suaves\n",
    "\n",
    "# Campo (oscuro, no verde)\n",
    "PITCH_BG      = \"#1A1730\"   # Fondo del campo (indigo/morado oscuro)\n",
    "PITCH_LINES   = \"#00E5FF\"   # Líneas del campo (cian suave)\n",
    "\n",
    "# --------- Estilo base ----------\n",
    "plt.rcParams.update({\n",
    "    \"figure.facecolor\": BG_MAIN,\n",
    "    \"axes.facecolor\": BG_MAIN,\n",
    "    \"savefig.facecolor\": BG_MAIN,\n",
    "    \"text.color\": TEXT_MAIN,\n",
    "    \"axes.labelcolor\": TEXT_MAIN,\n",
    "    \"xtick.color\": TEXT_SECOND,\n",
    "    \"ytick.color\": TEXT_SECOND,\n",
    "    \"axes.edgecolor\": GRID_COLOR,\n",
    "})"
   ]
  },
  {
   "cell_type": "markdown",
   "id": "fee1aca1",
   "metadata": {},
   "source": [
    "### 3.- Funciones de ayuda"
   ]
  }
 ],
 "metadata": {
  "kernelspec": {
   "display_name": "ent_comparativa",
   "language": "python",
   "name": "python3"
  },
  "language_info": {
   "codemirror_mode": {
    "name": "ipython",
    "version": 3
   },
   "file_extension": ".py",
   "mimetype": "text/x-python",
   "name": "python",
   "nbconvert_exporter": "python",
   "pygments_lexer": "ipython3",
   "version": "3.11.9"
  }
 },
 "nbformat": 4,
 "nbformat_minor": 5
}
