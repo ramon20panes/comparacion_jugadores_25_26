{
 "cells": [
  {
   "cell_type": "code",
   "execution_count": 15,
   "id": "afce9051",
   "metadata": {},
   "outputs": [],
   "source": [
    "import sys\n",
    "import os\n",
    "\n",
    "# Para entornos donde __file__ no existe (como VSCode notebooks a veces)\n",
    "notebook_path = os.getcwd()  # Te da la ruta a /notebooks\n",
    "root_path = os.path.abspath(os.path.join(notebook_path, '..'))\n",
    "if root_path not in sys.path:\n",
    "    sys.path.append(root_path)\n"
   ]
  },
  {
   "cell_type": "code",
   "execution_count": null,
   "id": "e3261c9b",
   "metadata": {},
   "outputs": [
    {
     "name": "stdout",
     "output_type": "stream",
     "text": [
      "🔄 Procesando partido 2J: ING vs ITA (match_id=1928274)\n",
      "✅ Guardado: 2J_ING_ITA_eventos.csv\n",
      "✅ Guardado: 2J_ING_ITA_jugadores.csv\n",
      "🔄 Procesando partido 2J: ESP vs ALE (match_id=1930822)\n",
      "✅ Guardado: 2J_ESP_ALE_eventos.csv\n",
      "✅ Guardado: 2J_ESP_ALE_jugadores.csv\n"
     ]
    }
   ],
   "source": [
    "from utils.whoscored_scraper import extraer_datos_partido\n",
    "\n",
    "# Define los partidos a procesar\n",
    "partidos = [\n",
    "    {\"match_id\": 1928274, \"jornada\": 2, \"equipo1\": \"ING\", \"equipo2\": \"ITA\"},\n",
    "    {\"match_id\": 1930822, \"jornada\": 2, \"equipo1\": \"ESP\", \"equipo2\": \"ALE\"},\n",
    "    # Añade más si quieres\n",
    "]\n",
    "\n",
    "# Ejecuta el proceso para cada uno\n",
    "for p in partidos:\n",
    "    extraer_datos_partido(\n",
    "        match_id=p[\"match_id\"],\n",
    "        jornada=p[\"jornada\"],\n",
    "        equipo1=p[\"equipo1\"],\n",
    "        equipo2=p[\"equipo2\"],\n",
    "        output_folder=\"../data/matches\"\n",
    "    )\n"
   ]
  }
 ],
 "metadata": {
  "kernelspec": {
   "display_name": "ent_comparativa",
   "language": "python",
   "name": "python3"
  },
  "language_info": {
   "codemirror_mode": {
    "name": "ipython",
    "version": 3
   },
   "file_extension": ".py",
   "mimetype": "text/x-python",
   "name": "python",
   "nbconvert_exporter": "python",
   "pygments_lexer": "ipython3",
   "version": "3.11.9"
  }
 },
 "nbformat": 4,
 "nbformat_minor": 5
}
