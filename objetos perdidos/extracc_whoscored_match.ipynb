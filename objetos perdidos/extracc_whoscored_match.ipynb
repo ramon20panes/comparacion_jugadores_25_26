{
 "cells": [
  {
   "cell_type": "code",
   "execution_count": null,
   "id": "e0893ec0",
   "metadata": {},
   "outputs": [],
   "source": [
    "import os\n",
    "import json\n",
    "import time\n",
    "import pandas as pd\n",
    "from selenium import webdriver\n",
    "from bs4 import BeautifulSoup"
   ]
  },
  {
   "cell_type": "code",
   "execution_count": 4,
   "id": "4bc66ad1",
   "metadata": {},
   "outputs": [],
   "source": [
    "# Put the Whoscored matchId here\n",
    "match_id = 1933499    \n",
    "# Número/Nombre de jornada\n",
    "jornada_id = 'Final_esp_ing_w'"
   ]
  },
  {
   "cell_type": "code",
   "execution_count": 5,
   "id": "068d4e5c",
   "metadata": {},
   "outputs": [
    {
     "name": "stdout",
     "output_type": "stream",
     "text": [
      "🔄 Extrayendo datos...\n",
      "✅ Datos guardados en: ../data/partidos\\Final_esp_ing_w_eventos.csv\n",
      "✅ Datos de jugadores guardados en: ../data/partidos\\Final_esp_ing_w_jugadores.csv\n"
     ]
    }
   ],
   "source": [
    "def extract_json_from_whoscored(match_id):\n",
    "    \"\"\"Extrae datos JSON incrustados desde la página de WhoScored para un match_id dado.\"\"\"\n",
    "    url = f'https://es.whoscored.com/Matches/{match_id}/Live'\n",
    "\n",
    "    driver = webdriver.Chrome()\n",
    "    driver.get(url)\n",
    "    time.sleep(5)  # Espera para que cargue el JS\n",
    "    soup = BeautifulSoup(driver.page_source, 'html.parser')\n",
    "    driver.quit()\n",
    "\n",
    "    scripts = soup.find_all(\"script\")\n",
    "\n",
    "    for script in scripts:\n",
    "        if script.string and \"matchCentreData\" in script.string:\n",
    "            data_string = script.string.split('require.config.params[\"args\"] = ')[1].split(\"};\")[0] + \"}\"\n",
    "            data_string = data_string.replace('matchId', '\"matchId\"')\n",
    "            data_string = data_string.replace('matchCentreData', '\"matchCentreData\"')\n",
    "            data_string = data_string.replace('formationIdNameMappings', '\"formationIdNameMappings\"')\n",
    "            data_string = data_string.replace('matchCentreEventTypeJson', '\"matchCentreEventTypeJson\"')\n",
    "\n",
    "            data = json.loads(data_string)\n",
    "            return data\n",
    "\n",
    "    raise ValueError(\"No se pudo extraer JSON del partido\")\n",
    "\n",
    "def process_events_json(data):\n",
    "    \"\"\"Normaliza el JSON de eventos y devuelve un DataFrame limpio.\"\"\"\n",
    "    events = data[\"matchCentreData\"][\"events\"]\n",
    "    df = pd.DataFrame(events)\n",
    "\n",
    "    # Limpieza básica de columnas anidadas\n",
    "    df['type'] = df['type'].astype(str).str.extract(r\"'displayName': '([^']+)'\")\n",
    "    df['outcomeType'] = df['outcomeType'].astype(str).str.extract(r\"'displayName': '([^']+)'\")\n",
    "    df['period'] = df['period'].astype(str).str.extract(r\"'displayName': '([^']+)'\")\n",
    "\n",
    "    return df\n",
    "\n",
    "def save_events_csv(df, match_id, output_folder=\"../data/partidos\"):\n",
    "    \"\"\"Guarda el DataFrame de eventos en un CSV.\"\"\"\n",
    "    os.makedirs(output_folder, exist_ok=True)\n",
    "    output_path = os.path.join(output_folder, f\"{jornada_id}_eventos.csv\")\n",
    "    df.to_csv(output_path, index=False, encoding='utf-8-sig')\n",
    "    print(f\"✅ Datos guardados en: {output_path}\")\n",
    "\n",
    "# -------------------------\n",
    "# EJECUCIÓN\n",
    "# -------------------------\n",
    "\n",
    "\n",
    "try:\n",
    "    print(\"🔄 Extrayendo datos...\")\n",
    "    data = extract_json_from_whoscored(match_id)\n",
    "\n",
    "    # Eventos\n",
    "    df_eventos = process_events_json(data)\n",
    "    save_events_csv(df_eventos, match_id)\n",
    "\n",
    "    # Jugadores\n",
    "    players_home = pd.DataFrame(data[\"matchCentreData\"][\"home\"][\"players\"])\n",
    "    players_home[\"teamId\"] = data[\"matchCentreData\"][\"home\"][\"teamId\"]\n",
    "\n",
    "    players_away = pd.DataFrame(data[\"matchCentreData\"][\"away\"][\"players\"])\n",
    "    players_away[\"teamId\"] = data[\"matchCentreData\"][\"away\"][\"teamId\"]\n",
    "\n",
    "    players_df = pd.concat([players_home, players_away], ignore_index=True)\n",
    "\n",
    "    os.makedirs(\"../data/partidos\", exist_ok=True)\n",
    "    players_csv_path = os.path.join(\"../data/partidos\", f\"{jornada_id}_jugadores.csv\")\n",
    "    players_df.to_csv(players_csv_path, index=False, encoding='utf-8-sig')\n",
    "    print(f\"✅ Datos de jugadores guardados en: {players_csv_path}\")\n",
    "\n",
    "except Exception as e:\n",
    "    print(f\"❌ Error: {e}\")\n"
   ]
  }
 ],
 "metadata": {
  "kernelspec": {
   "display_name": "ent_comparativa",
   "language": "python",
   "name": "python3"
  },
  "language_info": {
   "codemirror_mode": {
    "name": "ipython",
    "version": 3
   },
   "file_extension": ".py",
   "mimetype": "text/x-python",
   "name": "python",
   "nbconvert_exporter": "python",
   "pygments_lexer": "ipython3",
   "version": "3.11.9"
  }
 },
 "nbformat": 4,
 "nbformat_minor": 5
}
