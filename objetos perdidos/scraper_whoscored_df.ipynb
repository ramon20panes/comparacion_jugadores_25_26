{
 "cells": [
  {
   "cell_type": "code",
   "execution_count": 1,
   "id": "afce9051",
   "metadata": {},
   "outputs": [],
   "source": [
    "import sys\n",
    "import os\n",
    "import pandas as pd  \n",
    "import numpy as np\n",
    "\n",
    "# Para entornos donde __file__ no existe (como VSCode notebooks a veces)\n",
    "notebook_path = os.getcwd()  # Te da la ruta a /notebooks\n",
    "root_path = os.path.abspath(os.path.join(notebook_path, '..'))\n",
    "if root_path not in sys.path:\n",
    "    sys.path.append(root_path)"
   ]
  },
  {
   "cell_type": "code",
   "execution_count": 2,
   "id": "e01c8acc",
   "metadata": {},
   "outputs": [
    {
     "name": "stdout",
     "output_type": "stream",
     "text": [
      "🔄 Procesando partido Final_EuroWJ: ING vs ESP (match_id=1933499)\n",
      "✅ Guardados: Final_EuroWJ_ING_ESP_lg_eventos.csv, Final_EuroWJ_ING_ESP_agr_eventos.csv, Final_EuroWJ_ING_ESP_lg_jugadores.csv, Final_EuroWJ_ING_ESP_features_jugadores.csv\n"
     ]
    }
   ],
   "source": [
    "from utils.whoscored_scraper_prueba import extraer_datos_partido\n",
    "import importlib, utils.whoscored_scraper_prueba as ws\n",
    "importlib.reload(ws)\n",
    "\n",
    "# Partido de prueba: Final Euro (amistoso)\n",
    "partidos = [\n",
    "    {\"match_id\": 1933499, \"jornada\": \"Final_EuroW\", \"equipo1\": \"ING\", \"equipo2\": \"ESP\"}\n",
    "]\n",
    "\n",
    "# Carpeta de salida\n",
    "output_folder = \"../data/matches\"\n",
    "\n",
    "# Ejecutar extracción\n",
    "for p in partidos:\n",
    "    extraer_datos_partido(\n",
    "        match_id=p[\"match_id\"],\n",
    "        jornada=p[\"jornada\"],\n",
    "        equipo1=p[\"equipo1\"],\n",
    "        equipo2=p[\"equipo2\"],\n",
    "        output_folder=output_folder\n",
    "    )"
   ]
  }
 ],
 "metadata": {
  "kernelspec": {
   "display_name": "ent_comparativa",
   "language": "python",
   "name": "python3"
  },
  "language_info": {
   "codemirror_mode": {
    "name": "ipython",
    "version": 3
   },
   "file_extension": ".py",
   "mimetype": "text/x-python",
   "name": "python",
   "nbconvert_exporter": "python",
   "pygments_lexer": "ipython3",
   "version": "3.11.9"
  }
 },
 "nbformat": 4,
 "nbformat_minor": 5
}
